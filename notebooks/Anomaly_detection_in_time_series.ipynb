{
 "cells": [
  {
   "cell_type": "code",
   "execution_count": null,
   "id": "9d5ddd18-5de1-4bed-9581-45acaf8bb096",
   "metadata": {},
   "outputs": [],
   "source": []
  }
 ],
 "metadata": {
  "kernelspec": {
   "display_name": "",
   "name": ""
  },
  "language_info": {
   "name": ""
  }
 },
 "nbformat": 4,
 "nbformat_minor": 5
}
